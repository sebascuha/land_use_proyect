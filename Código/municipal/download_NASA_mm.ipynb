{
 "cells": [
  {
   "cell_type": "code",
   "execution_count": 1,
   "metadata": {},
   "outputs": [],
   "source": [
    "# Importing libraries\n",
    "\n",
    "# DS libraries\n",
    "import pandas as pd\n",
    "from python_calamine.pandas import pandas_monkeypatch\n",
    "import numpy as np\n",
    "import os\n",
    "import getpass\n",
    "import re # for regular expresion\n",
    "\n",
    "# GIS libraries\n",
    "import geopandas as gpd\n",
    "\n",
    "# Visualization\n",
    "import seaborn as sns\n",
    "import matplotlib.pyplot as plt\n",
    "\n",
    "# Ignore warnings\n",
    "import warnings\n",
    "warnings.filterwarnings(\"ignore\")"
   ]
  },
  {
   "cell_type": "code",
   "execution_count": 2,
   "metadata": {},
   "outputs": [],
   "source": [
    "# Set paths\n",
    "# Set Paths.\n",
    "user = getpass.getuser() # Get user.\n",
    "if user == 'sebas':\n",
    "    mainpath = \"/Users/\"+user+\"/Dropbox/Documents/Proyecto_UsosDeTierra/\"\n",
    "else:\n",
    "    mainpath = \"/Users/\"+user+\"/Dropbox/Documents/Proyecto_UsosDeTierra/\"\n"
   ]
  },
  {
   "cell_type": "markdown",
   "metadata": {},
   "source": [
    "# 2. Create prerequisite files using Python\n",
    "\n",
    "documentantion in [NASA] https://disc.gsfc.nasa.gov/information/howto?title=How%20to%20Generate%20Earthdata%20Prerequisite%20Files"
   ]
  },
  {
   "cell_type": "markdown",
   "metadata": {},
   "source": [
    "2a. Create `.dodsrc` and `.urs_cookies` files"
   ]
  },
  {
   "cell_type": "code",
   "execution_count": 4,
   "metadata": {},
   "outputs": [
    {
     "name": "stdout",
     "output_type": "stream",
     "text": [
      "Saved .urs_cookies and .dodsrc to: C:\\Users\\sebas\\\n",
      "Copied .dodsrc to: c:\\Users\\sebas\\Dropbox\\Documents\\Proyecto_UsosDeTierra\\Código\\Municipal\n"
     ]
    }
   ],
   "source": [
    "from subprocess import Popen\n",
    "import platform\n",
    "import os\n",
    "import shutil\n",
    "\n",
    "homeDir = os.path.expanduser(\"~\") + os.sep\n",
    "\n",
    "# Create .urs_cookies and .dodsrc files\n",
    "with open(homeDir + '.urs_cookies', 'w') as file:\n",
    "    file.write('')\n",
    "    file.close()\n",
    "with open(homeDir + '.dodsrc', 'w') as file:\n",
    "    file.write('HTTP.COOKIEJAR={}.urs_cookies\\n'.format(homeDir))\n",
    "    file.write('HTTP.NETRC={}.netrc'.format(homeDir))\n",
    "    file.close()\n",
    "\n",
    "print('Saved .urs_cookies and .dodsrc to:', homeDir)\n",
    "\n",
    "# Copy dodsrc to working directory in Windows\n",
    "if platform.system() == \"Windows\":  \n",
    "    shutil.copy2(homeDir + '.dodsrc', os.getcwd())\n",
    "    print('Copied .dodsrc to:', os.getcwd())"
   ]
  },
  {
   "cell_type": "markdown",
   "metadata": {},
   "source": [
    "Create `.netrc` file using Native Python libraries"
   ]
  },
  {
   "cell_type": "code",
   "execution_count": 8,
   "metadata": {},
   "outputs": [
    {
     "name": "stdout",
     "output_type": "stream",
     "text": [
      "Saved .netrc to: C:\\Users\\sebas\\\n"
     ]
    }
   ],
   "source": [
    "from subprocess import Popen\n",
    "from getpass import getpass\n",
    "import platform\n",
    "import os\n",
    "import shutil\n",
    "\n",
    "urs = 'urs.earthdata.nasa.gov'    # Earthdata URL to call for authentication\n",
    "prompts = ['Enter NASA Earthdata Login Username \\n(or create an account at urs.earthdata.nasa.gov): ',\n",
    "           'Enter NASA Earthdata Login Password: ']\n",
    "\n",
    "homeDir = os.path.expanduser(\"~\") + os.sep\n",
    "\n",
    "with open(homeDir + '.netrc', 'w') as file:\n",
    "    file.write('machine {} login {} password {}'.format(urs, getpass(prompt=prompts[0]), getpass(prompt=prompts[1])))\n",
    "    file.close()\n",
    "\n",
    "print('Saved .netrc to:', homeDir)\n",
    "\n",
    "# Set appropriate permissions for Linux/macOS\n",
    "if platform.system() != \"Windows\":\n",
    "    Popen('chmod og-rw ~/.netrc', shell=True)\n"
   ]
  },
  {
   "cell_type": "markdown",
   "metadata": {},
   "source": [
    "2c. Create `.netrc` file using earthaccess"
   ]
  },
  {
   "cell_type": "code",
   "execution_count": null,
   "metadata": {},
   "outputs": [
    {
     "name": "stdout",
     "output_type": "stream",
     "text": [
      "Collecting earthaccess\n",
      "  Using cached earthaccess-0.14.0-py3-none-any.whl.metadata (8.2 kB)\n",
      "Requirement already satisfied: fsspec>=2022.11 in c:\\users\\sebas\\anaconda3\\lib\\site-packages (from earthaccess) (2024.3.1)\n",
      "Collecting importlib-resources>=6.3.2 (from earthaccess)\n",
      "  Using cached importlib_resources-6.5.2-py3-none-any.whl.metadata (3.9 kB)\n",
      "Collecting multimethod>=1.8 (from earthaccess)\n",
      "  Using cached multimethod-2.0-py3-none-any.whl.metadata (9.2 kB)\n",
      "Collecting pqdm>=0.1 (from earthaccess)\n",
      "  Using cached pqdm-0.2.0-py2.py3-none-any.whl.metadata (3.2 kB)\n",
      "Collecting python-cmr>=0.10.0 (from earthaccess)\n",
      "  Using cached python_cmr-0.13.0-py3-none-any.whl.metadata (10 kB)\n",
      "Requirement already satisfied: requests>=2.26 in c:\\users\\sebas\\anaconda3\\lib\\site-packages (from earthaccess) (2.32.3)\n",
      "Requirement already satisfied: s3fs>=2022.11 in c:\\users\\sebas\\anaconda3\\lib\\site-packages (from earthaccess) (2024.3.1)\n",
      "Collecting tinynetrc>=1.3.1 (from earthaccess)\n",
      "  Using cached tinynetrc-1.3.1-py2.py3-none-any.whl.metadata (2.9 kB)\n",
      "Requirement already satisfied: typing-extensions>=4.10.0 in c:\\users\\sebas\\anaconda3\\lib\\site-packages (from earthaccess) (4.11.0)\n",
      "Collecting bounded-pool-executor (from pqdm>=0.1->earthaccess)\n",
      "  Using cached bounded_pool_executor-0.0.3-py3-none-any.whl.metadata (2.7 kB)\n",
      "Requirement already satisfied: tqdm in c:\\users\\sebas\\anaconda3\\lib\\site-packages (from pqdm>=0.1->earthaccess) (4.66.4)\n",
      "Requirement already satisfied: python-dateutil<3.0.0,>=2.8.2 in c:\\users\\sebas\\appdata\\roaming\\python\\python312\\site-packages (from python-cmr>=0.10.0->earthaccess) (2.9.0.post0)\n",
      "Requirement already satisfied: charset-normalizer<4,>=2 in c:\\users\\sebas\\anaconda3\\lib\\site-packages (from requests>=2.26->earthaccess) (3.4.0)\n",
      "Requirement already satisfied: idna<4,>=2.5 in c:\\users\\sebas\\anaconda3\\lib\\site-packages (from requests>=2.26->earthaccess) (3.10)\n",
      "Requirement already satisfied: urllib3<3,>=1.21.1 in c:\\users\\sebas\\anaconda3\\lib\\site-packages (from requests>=2.26->earthaccess) (2.2.3)\n",
      "Requirement already satisfied: certifi>=2017.4.17 in c:\\users\\sebas\\anaconda3\\lib\\site-packages (from requests>=2.26->earthaccess) (2024.12.14)\n",
      "Requirement already satisfied: aiobotocore<3.0.0,>=2.5.4 in c:\\users\\sebas\\anaconda3\\lib\\site-packages (from s3fs>=2022.11->earthaccess) (2.12.3)\n",
      "Requirement already satisfied: aiohttp!=4.0.0a0,!=4.0.0a1 in c:\\users\\sebas\\anaconda3\\lib\\site-packages (from s3fs>=2022.11->earthaccess) (3.9.5)\n",
      "Requirement already satisfied: botocore<1.34.70,>=1.34.41 in c:\\users\\sebas\\anaconda3\\lib\\site-packages (from aiobotocore<3.0.0,>=2.5.4->s3fs>=2022.11->earthaccess) (1.34.69)\n",
      "Requirement already satisfied: wrapt<2.0.0,>=1.10.10 in c:\\users\\sebas\\anaconda3\\lib\\site-packages (from aiobotocore<3.0.0,>=2.5.4->s3fs>=2022.11->earthaccess) (1.14.1)\n",
      "Requirement already satisfied: aioitertools<1.0.0,>=0.5.1 in c:\\users\\sebas\\anaconda3\\lib\\site-packages (from aiobotocore<3.0.0,>=2.5.4->s3fs>=2022.11->earthaccess) (0.7.1)\n",
      "Requirement already satisfied: aiosignal>=1.1.2 in c:\\users\\sebas\\anaconda3\\lib\\site-packages (from aiohttp!=4.0.0a0,!=4.0.0a1->s3fs>=2022.11->earthaccess) (1.2.0)\n",
      "Requirement already satisfied: attrs>=17.3.0 in c:\\users\\sebas\\anaconda3\\lib\\site-packages (from aiohttp!=4.0.0a0,!=4.0.0a1->s3fs>=2022.11->earthaccess) (24.2.0)\n",
      "Requirement already satisfied: frozenlist>=1.1.1 in c:\\users\\sebas\\anaconda3\\lib\\site-packages (from aiohttp!=4.0.0a0,!=4.0.0a1->s3fs>=2022.11->earthaccess) (1.4.0)\n",
      "Requirement already satisfied: multidict<7.0,>=4.5 in c:\\users\\sebas\\anaconda3\\lib\\site-packages (from aiohttp!=4.0.0a0,!=4.0.0a1->s3fs>=2022.11->earthaccess) (6.0.4)\n",
      "Requirement already satisfied: yarl<2.0,>=1.0 in c:\\users\\sebas\\anaconda3\\lib\\site-packages (from aiohttp!=4.0.0a0,!=4.0.0a1->s3fs>=2022.11->earthaccess) (1.9.3)\n",
      "Requirement already satisfied: six>=1.5 in c:\\users\\sebas\\appdata\\roaming\\python\\python312\\site-packages (from python-dateutil<3.0.0,>=2.8.2->python-cmr>=0.10.0->earthaccess) (1.17.0)\n",
      "Requirement already satisfied: colorama in c:\\users\\sebas\\anaconda3\\lib\\site-packages (from tqdm->pqdm>=0.1->earthaccess) (0.4.6)\n",
      "Requirement already satisfied: jmespath<2.0.0,>=0.7.1 in c:\\users\\sebas\\anaconda3\\lib\\site-packages (from botocore<1.34.70,>=1.34.41->aiobotocore<3.0.0,>=2.5.4->s3fs>=2022.11->earthaccess) (1.0.1)\n",
      "Using cached earthaccess-0.14.0-py3-none-any.whl (64 kB)\n",
      "Using cached importlib_resources-6.5.2-py3-none-any.whl (37 kB)\n",
      "Using cached multimethod-2.0-py3-none-any.whl (9.8 kB)\n",
      "Using cached pqdm-0.2.0-py2.py3-none-any.whl (6.8 kB)\n",
      "Using cached python_cmr-0.13.0-py3-none-any.whl (14 kB)\n",
      "Using cached tinynetrc-1.3.1-py2.py3-none-any.whl (3.9 kB)\n",
      "Using cached bounded_pool_executor-0.0.3-py3-none-any.whl (3.4 kB)\n",
      "Installing collected packages: tinynetrc, bounded-pool-executor, multimethod, importlib-resources, python-cmr, pqdm, earthaccess\n",
      "Successfully installed bounded-pool-executor-0.0.3 earthaccess-0.14.0 importlib-resources-6.5.2 multimethod-2.0 pqdm-0.2.0 python-cmr-0.13.0 tinynetrc-1.3.1\n"
     ]
    }
   ],
   "source": [
    "# !pip install earthaccess"
   ]
  },
  {
   "cell_type": "code",
   "execution_count": 5,
   "metadata": {},
   "outputs": [],
   "source": [
    "import earthaccess\n",
    "\n",
    "auth = earthaccess.login(strategy=\"interactive\", persist=True)"
   ]
  },
  {
   "cell_type": "markdown",
   "metadata": {},
   "source": [
    "# 3. *Optional*: Retrieve and Store Earthdata Login Token"
   ]
  },
  {
   "cell_type": "code",
   "execution_count": null,
   "metadata": {},
   "outputs": [],
   "source": [
    "import requests\n",
    "from base64 import b64encode\n",
    "from getpass import getpass\n",
    "import os\n",
    "\n",
    "# Earthdata Login URL for obtaining the token, and creating one if it doesn't exist\n",
    "url = 'https://urs.earthdata.nasa.gov/api/users/find_or_create_token'\n",
    "\n",
    "# Earthdata Login credential prompts\n",
    "prompts = ['Enter NASA Earthdata Login Username \\n(or create an account at urs.earthdata.nasa.gov): ',\n",
    "           'Enter NASA Earthdata Login Password: ']\n",
    "\n",
    "# Get credentials from user input\n",
    "username = getpass(prompt=prompts[0])\n",
    "password = getpass(prompt=prompts[1])\n",
    "\n",
    "# Encode credentials using Base64\n",
    "credentials = b64encode(f\"{username}:{password}\".encode('utf-8')).decode('utf-8')\n",
    "\n",
    "# Headers with the Basic Authorization\n",
    "headers = {\n",
    "    'Authorization': f'Basic {credentials}'\n",
    "}\n",
    "\n",
    "# Make the POST request to get the token\n",
    "response = requests.post(url, headers=headers)\n",
    "\n",
    "# Check if the request was successful\n",
    "if response.status_code == 200:\n",
    "    # Parse the response JSON to get the token\n",
    "    token_info = response.json()\n",
    "    token = token_info.get(\"access_token\")\n",
    "    print(\"Token retrieved successfully\")\n",
    "\n",
    "    # Define the path for the .edl_token file in the home directory\n",
    "    token_file_path = os.path.join(os.path.expanduser(\"~\"), \".edl_token\")\n",
    "\n",
    "    # Write the token to the .edl_token file\n",
    "    with open(token_file_path, 'w') as token_file:\n",
    "        token_file.write(token)\n",
    "\n",
    "    print(f\"Token saved to {token_file_path}\")\n",
    "\n",
    "else:\n",
    "    print(\"Failed to retrieve token:\", response.text)"
   ]
  }
 ],
 "metadata": {
  "kernelspec": {
   "display_name": "base",
   "language": "python",
   "name": "python3"
  },
  "language_info": {
   "codemirror_mode": {
    "name": "ipython",
    "version": 3
   },
   "file_extension": ".py",
   "mimetype": "text/x-python",
   "name": "python",
   "nbconvert_exporter": "python",
   "pygments_lexer": "ipython3",
   "version": "3.12.4"
  }
 },
 "nbformat": 4,
 "nbformat_minor": 2
}
